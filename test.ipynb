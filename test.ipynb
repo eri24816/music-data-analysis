{
 "cells": [
  {
   "cell_type": "code",
   "execution_count": 2,
   "metadata": {},
   "outputs": [],
   "source": []
  },
  {
   "cell_type": "code",
   "execution_count": 5,
   "metadata": {},
   "outputs": [],
   "source": [
    "from itertools import chain\n",
    "from tqdm import tqdm\n",
    "import multiprocessing\n",
    "from pathlib import Path\n",
    "from beat_this.inference import File2Beats\n",
    "\n",
    "file2beats = File2Beats(device=\"cuda\", dbn=True)\n",
    "def process_songs(input_dir: Path, output_dir: Path, audio_dir: Path = Path('./audio')):\n",
    "    output_dir.mkdir(exist_ok=True)\n",
    "    # for input_midi_file in tqdm(chain(input_dir.glob('*.mid'),input_dir.glob('*.midi'))):\n",
    "    #     output_midi_file = output_dir / input_midi_file.name\n",
    "    #     process_song(input_midi_file, output_midi_file, audio_dir)\n",
    "\n",
    "    n_shards = 10\n",
    "    input_files = list(chain(input_dir.glob('*.mid'),input_dir.glob('*.midi')))\n",
    "    input_files = [input_files[i::n_shards] for i in range(n_shards)]\n",
    "    output_files = [output_dir / f'{i}.mid' for i in range(n_shards)]\n",
    "    audio_dirs = [audio_dir for i in range(n_shards)]\n",
    "    with multiprocessing.Pool(n_shards) as p:\n",
    "        p.starmap(process_songs_shard, zip(input_files, output_files, audio_dirs))\n",
    "        "
   ]
  },
  {
   "cell_type": "code",
   "execution_count": 6,
   "metadata": {},
   "outputs": [
    {
     "name": "stderr",
     "output_type": "stream",
     "text": [
      "  0%|          | 0/7 [00:00<?, ?it/s]"
     ]
    }
   ],
   "source": [
    "if __name__ == '__main__':\n",
    "    process_songs(Path('./midi'), Path('./processed_midi'))"
   ]
  },
  {
   "cell_type": "code",
   "execution_count": null,
   "metadata": {},
   "outputs": [],
   "source": []
  }
 ],
 "metadata": {
  "kernelspec": {
   "display_name": "gr",
   "language": "python",
   "name": "python3"
  },
  "language_info": {
   "codemirror_mode": {
    "name": "ipython",
    "version": 3
   },
   "file_extension": ".py",
   "mimetype": "text/x-python",
   "name": "python",
   "nbconvert_exporter": "python",
   "pygments_lexer": "ipython3",
   "version": "3.11.9"
  }
 },
 "nbformat": 4,
 "nbformat_minor": 2
}
